{
 "cells": [
  {
   "cell_type": "markdown",
   "id": "6a86caef",
   "metadata": {},
   "source": [
    "# Exam Block 2: Data Aggregates\n",
    "***\n",
    "\n",
    "# I. Strings in Detail\n",
    "\n",
    "### ASCII, UNICODE, UTF-8\n",
    "1. **ASCII (American Standard Code for Information Interchange); ASCII codes represent text in computers**\n",
    "    \n",
    "![ASCII Code](images/ASCII_full.svg \"ASCII Code\")\n"
   ]
  },
  {
   "cell_type": "code",
   "execution_count": 1,
   "id": "82ecacd2",
   "metadata": {},
   "outputs": [],
   "source": [
    "# illustrate ascii()\n",
    "ascii_str = \"La grande fête!\""
   ]
  },
  {
   "cell_type": "code",
   "execution_count": 4,
   "id": "0dd3fab0",
   "metadata": {},
   "outputs": [
    {
     "name": "stdout",
     "output_type": "stream",
     "text": [
      "'La grande f\\xeate!'\n"
     ]
    }
   ],
   "source": [
    "print(ascii(ascii_str))"
   ]
  },
  {
   "cell_type": "code",
   "execution_count": 8,
   "id": "0ec023da",
   "metadata": {},
   "outputs": [
    {
     "name": "stdout",
     "output_type": "stream",
     "text": [
      "'\\xa5'\n"
     ]
    }
   ],
   "source": [
    "print(ascii(\"¥\"))"
   ]
  },
  {
   "cell_type": "code",
   "execution_count": 11,
   "id": "b56a6c56",
   "metadata": {
    "scrolled": false
   },
   "outputs": [
    {
     "name": "stdout",
     "output_type": "stream",
     "text": [
      "'Stra\\xdfe'\n"
     ]
    }
   ],
   "source": [
    "print(ascii(\"Straße\"))"
   ]
  },
  {
   "cell_type": "code",
   "execution_count": 9,
   "id": "5ee493d5",
   "metadata": {},
   "outputs": [
    {
     "name": "stdout",
     "output_type": "stream",
     "text": [
      "'\\u0420\\u043e\\u0441\\u0441\\u0438\\u044f'\n"
     ]
    }
   ],
   "source": [
    "print(ascii(\"Россия\"))"
   ]
  },
  {
   "cell_type": "code",
   "execution_count": 7,
   "id": "a703db50",
   "metadata": {},
   "outputs": [
    {
     "data": {
      "text/plain": [
       "str"
      ]
     },
     "execution_count": 7,
     "metadata": {},
     "output_type": "execute_result"
    }
   ],
   "source": [
    "type(ascii(\"Россия\"))"
   ]
  },
  {
   "cell_type": "markdown",
   "id": "98bb42b6",
   "metadata": {},
   "source": [
    "### UNICODE, UTF-8 (8 bits), UTF16 (16 bits: Java, JavaScript)\n",
    "2. **Unicode Standard: Encoding representation in most writing systems (includes characters of non-Latin languages and disciplines)**"
   ]
  },
  {
   "cell_type": "markdown",
   "id": "f672cea5",
   "metadata": {},
   "source": [
    "![Escape Sequence](images/escaping_sequence.png \"Escape Sequence\")"
   ]
  },
  {
   "cell_type": "code",
   "execution_count": 114,
   "id": "8fce7141",
   "metadata": {},
   "outputs": [],
   "source": [
    "unicode_str = \"街道\"  # Chinese meaning 'street'"
   ]
  },
  {
   "cell_type": "code",
   "execution_count": 29,
   "id": "9f8b427e",
   "metadata": {},
   "outputs": [
    {
     "name": "stdout",
     "output_type": "stream",
     "text": [
      "街道\n"
     ]
    }
   ],
   "source": [
    "print(unicode_str)"
   ]
  },
  {
   "cell_type": "code",
   "execution_count": 19,
   "id": "a332aa1b",
   "metadata": {},
   "outputs": [
    {
     "name": "stdout",
     "output_type": "stream",
     "text": [
      "'\\u8857\\u9053'\n"
     ]
    }
   ],
   "source": [
    "print(ascii(unicode_str))"
   ]
  },
  {
   "cell_type": "code",
   "execution_count": 26,
   "id": "38f01680",
   "metadata": {},
   "outputs": [
    {
     "name": "stdout",
     "output_type": "stream",
     "text": [
      "街道\n"
     ]
    }
   ],
   "source": [
    "print(unicode_str)"
   ]
  },
  {
   "cell_type": "code",
   "execution_count": 55,
   "id": "5a670939",
   "metadata": {},
   "outputs": [
    {
     "name": "stdout",
     "output_type": "stream",
     "text": [
      "街道\n"
     ]
    }
   ],
   "source": [
    "print(\"\\u8857\\u9053\")"
   ]
  },
  {
   "cell_type": "markdown",
   "id": "998dc3de",
   "metadata": {},
   "source": [
    "## Normalizing Unicode Text to a Standard Representation"
   ]
  },
  {
   "cell_type": "code",
   "execution_count": 72,
   "id": "264cc717",
   "metadata": {},
   "outputs": [],
   "source": [
    "import unicodedata"
   ]
  },
  {
   "cell_type": "code",
   "execution_count": 82,
   "id": "808a26ca",
   "metadata": {},
   "outputs": [
    {
     "name": "stdout",
     "output_type": "stream",
     "text": [
      "Spicy Jalapeño\n",
      "'Spicy Jalape\\xf1o'\n"
     ]
    }
   ],
   "source": [
    "s1 = \"Spicy Jalape\\u00f1o\"\n",
    "print(s1)\n",
    "print(ascii(s1))"
   ]
  },
  {
   "cell_type": "code",
   "execution_count": 83,
   "id": "e33f59f3",
   "metadata": {},
   "outputs": [
    {
     "name": "stdout",
     "output_type": "stream",
     "text": [
      "Spicy Jalapeño\n",
      "'Spicy Jalapen\\u0303o'\n"
     ]
    }
   ],
   "source": [
    "s2 = \"Spicy Jalapen\\u0303o\"\n",
    "print(s2)\n",
    "print(ascii(s2))"
   ]
  },
  {
   "cell_type": "code",
   "execution_count": 338,
   "id": "0c047700",
   "metadata": {},
   "outputs": [
    {
     "name": "stdout",
     "output_type": "stream",
     "text": [
      "Spicy Jalapeño\n",
      "'Spicy Jalapen\\u0303o'\n",
      "\n",
      " Spicy Jalapeño\n",
      "'Spicy Jalapen\\u0303o'\n"
     ]
    }
   ],
   "source": [
    "\"\"\"\n",
    "Normalizing unicode text\n",
    "NFD: Characters should be fully decomposed with the use of combining characters.\n",
    "\"\"\"\n",
    "\n",
    "t1 = unicodedata.normalize(\"NFD\", s1)\n",
    "print(t1)\n",
    "print(ascii(t1))\n",
    "\n",
    "t2 = unicodedata.normalize(\"NFD\", s2)\n",
    "print(\"\\n\", t2)\n",
    "print(ascii(t2))"
   ]
  },
  {
   "cell_type": "markdown",
   "id": "1598f8b9",
   "metadata": {},
   "source": [
    "## Escaping using \\ character\n",
    "![Escape Characters](images/escape_chars.png \"Escape Characters\")"
   ]
  },
  {
   "cell_type": "code",
   "execution_count": 39,
   "id": "c70aff6a",
   "metadata": {},
   "outputs": [
    {
     "name": "stdout",
     "output_type": "stream",
     "text": [
      "One line, \n",
      "This is another line\n"
     ]
    }
   ],
   "source": [
    "print(\"One line, \\nThis is another line\")"
   ]
  },
  {
   "cell_type": "code",
   "execution_count": 40,
   "id": "ea8b1d4e",
   "metadata": {},
   "outputs": [
    {
     "name": "stdout",
     "output_type": "stream",
     "text": [
      "to tab use \\t\n",
      "This is an example:\n",
      "\ton a new line.\n"
     ]
    }
   ],
   "source": [
    "print(\"to tab use \\\\t\")\n",
    "print(\"This is an example:\\n\\ton a new line.\")"
   ]
  },
  {
   "cell_type": "code",
   "execution_count": 44,
   "id": "2744739c",
   "metadata": {},
   "outputs": [
    {
     "name": "stdout",
     "output_type": "stream",
     "text": [
      "This is an example of a 'single' quote string.\n"
     ]
    }
   ],
   "source": [
    "print('This is an example of a \\'single\\' quote string.')"
   ]
  },
  {
   "cell_type": "code",
   "execution_count": 43,
   "id": "5c276a18",
   "metadata": {},
   "outputs": [
    {
     "name": "stdout",
     "output_type": "stream",
     "text": [
      "Double quote string with \"double\" quote!\n"
     ]
    }
   ],
   "source": [
    "print(\"Double quote string with \\\"double\\\" quote!\")"
   ]
  },
  {
   "cell_type": "code",
   "execution_count": 46,
   "id": "a479d85d",
   "metadata": {},
   "outputs": [
    {
     "name": "stdout",
     "output_type": "stream",
     "text": [
      "Hello \bWorld!\n"
     ]
    }
   ],
   "source": [
    "print(\"Hello \\bWorld!\")  # Erase one space (backspace)"
   ]
  },
  {
   "cell_type": "code",
   "execution_count": 48,
   "id": "b131acf7",
   "metadata": {},
   "outputs": [
    {
     "name": "stdout",
     "output_type": "stream",
     "text": [
      "you see me not \r",
      "now you see me!\n"
     ]
    }
   ],
   "source": [
    "print(\"you see me not \\rnow you see me!\")"
   ]
  },
  {
   "cell_type": "code",
   "execution_count": 54,
   "id": "8e3b6a8d",
   "metadata": {},
   "outputs": [
    {
     "name": "stdout",
     "output_type": "stream",
     "text": [
      "Hello\n"
     ]
    }
   ],
   "source": [
    "print(\"\\110\\145\\154\\154\\157\")  # \\ooo (octal)"
   ]
  },
  {
   "cell_type": "markdown",
   "id": "7602f330",
   "metadata": {},
   "source": [
    "## String Copying"
   ]
  },
  {
   "cell_type": "code",
   "execution_count": 117,
   "id": "b356bcac",
   "metadata": {},
   "outputs": [],
   "source": [
    "str1 = \"This is string 1\""
   ]
  },
  {
   "cell_type": "code",
   "execution_count": 118,
   "id": "66b94782",
   "metadata": {},
   "outputs": [
    {
     "data": {
      "text/plain": [
       "True"
      ]
     },
     "execution_count": 118,
     "metadata": {},
     "output_type": "execute_result"
    }
   ],
   "source": [
    "str2 = str1  # One way\n",
    "str1==str2"
   ]
  },
  {
   "cell_type": "code",
   "execution_count": 119,
   "id": "9014cdce",
   "metadata": {},
   "outputs": [
    {
     "name": "stdout",
     "output_type": "stream",
     "text": [
      "140642574677488\n",
      "140642574677488\n"
     ]
    }
   ],
   "source": [
    "print(id(str1))\n",
    "print(id(str2))"
   ]
  },
  {
   "cell_type": "code",
   "execution_count": 121,
   "id": "ae630c2e",
   "metadata": {},
   "outputs": [
    {
     "data": {
      "text/plain": [
       "140642574677488"
      ]
     },
     "execution_count": 121,
     "metadata": {},
     "output_type": "execute_result"
    }
   ],
   "source": [
    "str3 = str(str2)  # A second way\n",
    "id(str3)"
   ]
  },
  {
   "cell_type": "code",
   "execution_count": 123,
   "id": "6f8329b4",
   "metadata": {},
   "outputs": [
    {
     "name": "stdout",
     "output_type": "stream",
     "text": [
      "This is string 1\n"
     ]
    }
   ],
   "source": [
    "str4 = str3[:]  # A third way\n",
    "print(str4)"
   ]
  },
  {
   "cell_type": "code",
   "execution_count": 124,
   "id": "41d4ef89",
   "metadata": {},
   "outputs": [
    {
     "name": "stdout",
     "output_type": "stream",
     "text": [
      "This is string 1\n"
     ]
    },
    {
     "data": {
      "text/plain": [
       "140642574677488"
      ]
     },
     "execution_count": 124,
     "metadata": {},
     "output_type": "execute_result"
    }
   ],
   "source": [
    "str5 = \"\" + str4  # A fourth way\n",
    "print(str5)\n",
    "id(str5)"
   ]
  },
  {
   "cell_type": "markdown",
   "id": "b6b3e89d",
   "metadata": {},
   "source": [
    "## String slicing & indexing"
   ]
  },
  {
   "cell_type": "code",
   "execution_count": 134,
   "id": "a70e31be",
   "metadata": {},
   "outputs": [
    {
     "name": "stdout",
     "output_type": "stream",
     "text": [
      "racecar\n",
      "acecar\n"
     ]
    }
   ],
   "source": [
    "palindrome1 = \"racecar\"\n",
    "print(palindrome1[::-1])  # Read backwards reads the same ;)\n",
    "print(palindrome1[1:])"
   ]
  },
  {
   "cell_type": "code",
   "execution_count": 133,
   "id": "e3539243",
   "metadata": {},
   "outputs": [
    {
     "name": "stdout",
     "output_type": "stream",
     "text": [
      "[0, 1, 2, 3, 4, 5, 6, 7, 8, 9, 10]\n",
      "[10, 9, 8, 7, 6, 5, 4, 3, 2, 1, 0]\n"
     ]
    }
   ],
   "source": [
    "\n",
    "arr1 = [n for n in range(11)]\n",
    "print(arr1)\n",
    "print(arr1[::-1])"
   ]
  },
  {
   "cell_type": "markdown",
   "id": "391be0b1",
   "metadata": {},
   "source": [
    "## Some string manipulation methods"
   ]
  },
  {
   "cell_type": "markdown",
   "id": "22e11a9b",
   "metadata": {},
   "source": [
    "**upper()** and **lower()**"
   ]
  },
  {
   "cell_type": "code",
   "execution_count": 127,
   "id": "aac0cfdc",
   "metadata": {},
   "outputs": [
    {
     "name": "stdout",
     "output_type": "stream",
     "text": [
      "THIS IS A STRING\n"
     ]
    }
   ],
   "source": [
    "str1 = \"this is a string\".upper()\n",
    "print(str1)"
   ]
  },
  {
   "cell_type": "code",
   "execution_count": 128,
   "id": "3c35d12e",
   "metadata": {},
   "outputs": [
    {
     "name": "stdout",
     "output_type": "stream",
     "text": [
      "this is a string\n"
     ]
    }
   ],
   "source": [
    "print(str1.lower())"
   ]
  },
  {
   "cell_type": "markdown",
   "id": "e0e360f0",
   "metadata": {},
   "source": [
    "## isxxx() methods\n",
    "1. `isupper()` Returns True if the string has at least one letter and all the letters are uppercase.\n",
    "1. `islower()` Returns True if the string has at least one letter and all the letters are lowercase.\n",
    "1. `isalpha()` Returns True if the string consists only of letters and is not blank.\n",
    "1. `isalnum()` Returns True if the string consists only of letters and numbers and is not blank.\n",
    "1. `isdecimal()` Returns True if the string consists only of numeric characters and is not blank.\n",
    "1. `isspace()` Returns True if the string consists only of spaces, tabs, and new-lines and is not blank.\n",
    "1. `istitle()` Returns True if the string consists only of words that begin with an uppercase letter followed by only lowercase letters"
   ]
  },
  {
   "cell_type": "code",
   "execution_count": 177,
   "id": "7b1274d0",
   "metadata": {},
   "outputs": [
    {
     "name": "stdout",
     "output_type": "stream",
     "text": [
      "islower() only boolean: False\n",
      "isupper() only boolean: True\n",
      "True\n",
      "False\n",
      "True\n",
      "True\n"
     ]
    }
   ],
   "source": [
    "msg = \"Hello world!\"\n",
    "print(f\"islower() only boolean: {msg.islower()}\")\n",
    "\n",
    "msg2 = msg.upper()\n",
    "print(f\"isupper() only boolean: {msg2.isupper()}\")\n",
    "\n",
    "\n",
    "# It's alphanumeric\n",
    "name = \"M234onica\"\n",
    "print(name.isalnum())\n",
    "\n",
    "# contains whitespace\n",
    "name = \"M3onica Gell22er \"\n",
    "print(name.isalnum())\n",
    "\n",
    "name = \"Mo3nicaGell22er\"\n",
    "print(name.isalnum())\n",
    "\n",
    "name = \"133\"\n",
    "print(name.isalnum())"
   ]
  },
  {
   "cell_type": "markdown",
   "id": "1aa400b0",
   "metadata": {},
   "source": [
    "**capitalize()**"
   ]
  },
  {
   "cell_type": "code",
   "execution_count": 179,
   "id": "65dba02a",
   "metadata": {},
   "outputs": [
    {
     "name": "stdout",
     "output_type": "stream",
     "text": [
      "Why the rite?\n"
     ]
    }
   ],
   "source": [
    "title = \"why the rite?\"\n",
    "print(title.capitalize())"
   ]
  },
  {
   "cell_type": "markdown",
   "id": "699a5848",
   "metadata": {},
   "source": [
    "**split() and .join()**"
   ]
  },
  {
   "cell_type": "code",
   "execution_count": 136,
   "id": "87a5c1c7",
   "metadata": {},
   "outputs": [
    {
     "name": "stdout",
     "output_type": "stream",
     "text": [
      "['THIS', 'IS', 'A', 'STRING']\n",
      "['STRING', 'A', 'IS', 'THIS']\n",
      "STRING A IS THIS\n"
     ]
    }
   ],
   "source": [
    "str_lst = str1.split(\" \")\n",
    "print(str_lst)\n",
    "\n",
    "list_reversed = str_lst[::-1]\n",
    "list_reversed2 = list(reversed(str_lst))  # Another reversing approach\n",
    "print(list_reversed2)\n",
    "str_reversed = \" \".join(list_reversed)\n",
    "print(str_reversed)"
   ]
  },
  {
   "cell_type": "code",
   "execution_count": 143,
   "id": "054bc69b",
   "metadata": {},
   "outputs": [
    {
     "name": "stdout",
     "output_type": "stream",
     "text": [
      "['The', 'Gee', 'is', 'in the house and not over there!']\n"
     ]
    }
   ],
   "source": [
    "str2 = \"The Gee is in the house and not over there!\"\n",
    "lst = str2.split(\" \", 3)  # split(separator, maxsplit(option, default -1))\n",
    "print(lst)"
   ]
  },
  {
   "cell_type": "markdown",
   "id": "2b945174",
   "metadata": {},
   "source": [
    "### len(), chr(), ord()\n",
    "\n",
    "#### chr() A character whose Unicode code point is the integer\n",
    "#### Valid range from 0 to 1,114,111"
   ]
  },
  {
   "cell_type": "code",
   "execution_count": 146,
   "id": "ca7c44ac",
   "metadata": {},
   "outputs": [
    {
     "name": "stdout",
     "output_type": "stream",
     "text": [
      "43\n",
      "0\n"
     ]
    }
   ],
   "source": [
    "print(len(str2))\n",
    "\n",
    "dict1 = dict()\n",
    "print(len(dict1))"
   ]
  },
  {
   "cell_type": "code",
   "execution_count": 136,
   "id": "4fd23f62",
   "metadata": {},
   "outputs": [
    {
     "name": "stdout",
     "output_type": "stream",
     "text": [
      "$\n",
      "<class 'str'>\n",
      "􏿿\n"
     ]
    }
   ],
   "source": [
    "char1 = chr(36)\n",
    "print(char1)\n",
    "print(type(char1))\n",
    "\n",
    "char2 = chr(1_114_111)\n",
    "print(char2)\n"
   ]
  },
  {
   "cell_type": "code",
   "execution_count": 137,
   "id": "91eff839",
   "metadata": {},
   "outputs": [
    {
     "name": "stdout",
     "output_type": "stream",
     "text": [
      "80\n",
      "<class 'int'>\n"
     ]
    }
   ],
   "source": [
    "char = \"P\"\n",
    "# Find unicode of P\n",
    "u_code = ord(char)\n",
    "print(u_code)\n",
    "print(type(u_code))"
   ]
  },
  {
   "cell_type": "markdown",
   "id": "f5df283d",
   "metadata": {},
   "source": [
    "### Type Conversion\n",
    "***\n",
    "#### Function &emsp; Description\n",
    "***\n",
    "`ascii()`&emsp; Returns a string containing a printable representation of an object.\n",
    "***\n",
    "`bin()`&emsp; Converts an integer to a binary string.\n",
    "***\n",
    "`bool()`&emsp; Converts an argument to a Boolean value.\n",
    "***\n",
    "`chr()`&emsp; Returns string representation of character given by integer argument.\n",
    "***\n",
    "`complex()`&emsp; Returns a complex number constructed from arguments.\n",
    "***\n",
    "`float()`&emsp; Returns a floating-point object constructed from a number or string.\n",
    "***\n",
    "`hex()`&emsp; Converts an integer to a hexadecimal string.\n",
    "***\n",
    "`int()`&emsp; Returns an integer object constructed from a number or string.\n",
    "***\n",
    "`oct()`&emsp; Converts an integer to an octal string.\n",
    "***\n",
    "`ord()`&emsp; Returns integer representation of a character.\n",
    "***\n",
    "`repr()`&emsp; Returns a string containing a printable representation of an object.\n",
    "***\n",
    "`str()`&emsp; Returns a string version of an object.\n",
    "***\n",
    "`type()`&emsp; Returns the type of an object or creates a new type object.\n",
    "***"
   ]
  },
  {
   "cell_type": "markdown",
   "id": "7b403233",
   "metadata": {},
   "source": [
    "# II. Lists in Detail\n"
   ]
  },
  {
   "cell_type": "markdown",
   "id": "8fa4680d",
   "metadata": {},
   "source": [
    "## Indexing: \n",
    "`start index (default is 0), stop index[(last index is -1), step]`"
   ]
  },
  {
   "cell_type": "code",
   "execution_count": 337,
   "id": "6faf3f6a",
   "metadata": {},
   "outputs": [
    {
     "name": "stdout",
     "output_type": "stream",
     "text": [
      "there\n",
      "4\n",
      "['Hello', 'there', 'my', 'people!']\n",
      "t\n",
      "   Original lst1 id: 140686439579328\n",
      "Shallow copied list: 140686439579328\n",
      "140686439579328\n",
      "140686439565888\n"
     ]
    }
   ],
   "source": [
    "\n",
    "lst1 = [\"Hello\", [], \"there\", 100, \"my\", False, \"people!\"]\n",
    "print(lst1[2])\n",
    "\n",
    "\"\"\"\n",
    "Item index finding\n",
    "    parameters:\n",
    "        element - the element to be searched,\n",
    "        start(optional) - start searching from this index,\n",
    "        end(optional) - search the element up to this index.\n",
    "\"\"\"\n",
    "print(lst1.index(\"my\", 0, -2))\n",
    "\n",
    "# Hop every other item starting from index zero\n",
    "print(lst1[::2])\n",
    "\n",
    "\n",
    "# List index drilling\n",
    "print(lst1[2][0])\n",
    "\n",
    "\"\"\"\n",
    "List referencing: good for working with the new copy but still want original list modification \n",
    "available.\n",
    "\"\"\"\n",
    "shallow_copy_list = lst1\n",
    "print(f\"   Original lst1 id: {id(lst1)}\")\n",
    "print(f\"Shallow copied list: {id(shallow_copy_list)}\")\n",
    "\n",
    "# List duplication, two different objects.\n",
    "lst2 = lst1[:]\n",
    "print(id(lst1))\n",
    "print(id(lst2))"
   ]
  },
  {
   "cell_type": "markdown",
   "id": "6a39a80b",
   "metadata": {},
   "source": [
    "## Numeric arrays\n",
    "\n",
    "![Array methods](images/array_methods.png \"Array methods\")\n",
    "![Type Codes](images/array_type_code.png \"Type code\")"
   ]
  },
  {
   "cell_type": "code",
   "execution_count": 9,
   "id": "7f7ba306",
   "metadata": {},
   "outputs": [
    {
     "name": "stdout",
     "output_type": "stream",
     "text": [
      "Type for num_lst: <class 'list'>,        Size: 120\n",
      "    Type for arr: <class 'array.array'>, Size: 87\n",
      "\n",
      "Max size for arr_bin: 208\n",
      "\n",
      "Max size for arr_short: 65616\n",
      "<class 'numpy.ndarray'>\n",
      "\n",
      "***Checking a list and numeric arrays with int items up to 1000***\n",
      "num_lst2 type: <class 'list'>,          Size: 8856\n",
      "    arr2 type: <class 'array.array'>,   Size: 2082\n",
      "    arr3 type: <class 'numpy.ndarray'>, Size: 8112\n"
     ]
    }
   ],
   "source": [
    "from array import array\n",
    "import numpy as np\n",
    "import sys\n",
    "\n",
    "\n",
    "# Creating a numeric array\n",
    "\n",
    "num_lst = [0, 1, 2, 3, 4, 5, 6]\n",
    "print(f\"Type for num_lst: {type(num_lst)},        Size: {sys.getsizeof(num_lst)}\")\n",
    "\n",
    "\n",
    "arr = array(\"b\", [0, 1, 2, 3, 4, 5, 6])\n",
    "print(f\"    Type for arr: {type(arr)}, Size: {sys.getsizeof(arr)}\")\n",
    "print()\n",
    "arr_bin = array(\"b\", [x for x in range(127+1)])  # top number of a byte\n",
    "print(f\"Max size for arr_bin: {sys.getsizeof(arr_bin)}\")\n",
    "\n",
    "\n",
    "print()\n",
    "\n",
    "\n",
    "num_lst2 = [x for x in range(1000+1)]\n",
    "arr2 = array(\"h\", [x for x in range(1000+1)])\n",
    "arr_short = array(\"h\", [x for x in range(32_767+1)])  # top number of short\n",
    "print(f\"Max size for arr_short: {sys.getsizeof(arr_short)}\")\n",
    "arr3 = np.arange(1001)\n",
    "print(type(arr3))\n",
    "\n",
    "print()\n",
    "print(\"***Checking a list and numeric arrays with int items up to 1000***\")\n",
    "print(f\"num_lst2 type: {type(num_lst2)},          Size: {sys.getsizeof(num_lst2)}\")\n",
    "print(f\"    arr2 type: {type(arr2)},   Size: {sys.getsizeof(arr2)}\")\n",
    "print(f\"    arr3 type: {type(arr3)}, Size: {sys.getsizeof(arr3)}\")"
   ]
  },
  {
   "cell_type": "markdown",
   "id": "845720ad",
   "metadata": {},
   "source": [
    "### Integer types in Python\n",
    "![Integer Binary](images/int_binary.png \"Integer Binary representation\")\n",
    "<br>\n",
    "##### Note:\n",
    "The first thing to notice about these binary representations is that their lengths differ. The integer 6 needs only three bits, but the integer 999 needs ten bits. To be safe, Python allocates a fixed number of bytes of space in memory for each variable of a normal integer type, which is known as `int` in Python. Typically, an integer occupies four bytes, or 32 bits. Integers whose binary representations require fewer than 32 bits are padded to the left with 0s.\n",
    "<br><br>"
   ]
  },
  {
   "cell_type": "markdown",
   "id": "157c6b0c",
   "metadata": {},
   "source": [
    "## List Basic Methods"
   ]
  },
  {
   "cell_type": "markdown",
   "id": "ef3e3596",
   "metadata": {},
   "source": [
    "#### append()"
   ]
  },
  {
   "cell_type": "code",
   "execution_count": 342,
   "id": "833ced1e",
   "metadata": {},
   "outputs": [
    {
     "name": "stdout",
     "output_type": "stream",
     "text": [
      "[1, 2, 3, 7, 5]\n"
     ]
    }
   ],
   "source": [
    "\"\"\"\n",
    "append() adds the new item(s) to the end\n",
    "    parameters:\n",
    "        elmnt - Required. Any type (string, number, list, etc.) The element to search for.\n",
    "\"\"\"\n",
    "lst = [1, 2, 3, 7]\n",
    "lst.append(5)\n",
    "print(lst)"
   ]
  },
  {
   "cell_type": "code",
   "execution_count": 343,
   "id": "10cca07b",
   "metadata": {},
   "outputs": [
    {
     "name": "stdout",
     "output_type": "stream",
     "text": [
      "['first', 1, 2, 3, 4, 7, 5]\n"
     ]
    }
   ],
   "source": [
    "\"\"\"\n",
    "insert()\n",
    "    parameters: \n",
    "        pos - Required. A number specifying in which position to insert the value.\n",
    "        elmnt - Required. A element of any type (string, number, object etc.)\n",
    "\"\"\"\n",
    "lst.insert(3, 4)\n",
    "lst.insert(0, \"first\")\n",
    "print(lst)"
   ]
  },
  {
   "cell_type": "code",
   "execution_count": 346,
   "id": "2b68e4b6",
   "metadata": {},
   "outputs": [
    {
     "name": "stdout",
     "output_type": "stream",
     "text": [
      "9\n",
      "['0', 'b', '1', '1', '0', '0', '1', '0', '0']\n"
     ]
    }
   ],
   "source": [
    "\"\"\"\n",
    "len()\n",
    "    Can be a sequence(string, bytes, tuple, list, range)\n",
    "    parameters:\n",
    "        elmnt\n",
    "\"\"\"\n",
    "var1 = bin(100)\n",
    "print(len(var1))\n",
    "\n",
    "print([b for b in var1])"
   ]
  },
  {
   "cell_type": "markdown",
   "id": "b562a4f5",
   "metadata": {},
   "source": [
    "#### sorted() and .sort()"
   ]
  },
  {
   "cell_type": "code",
   "execution_count": 374,
   "id": "51ed141a",
   "metadata": {},
   "outputs": [
    {
     "name": "stdout",
     "output_type": "stream",
     "text": [
      "140686459165184 ['a', 'c', 'd', 'b']\n",
      "140686459776960 ['a', 'b', 'c', 'd']\n",
      "\n",
      "['Mitsubishi', 'Ford', 'BMW', 'VW']\n"
     ]
    }
   ],
   "source": [
    "\"\"\"\n",
    "sorted()\n",
    "    Definition and Usage: Returns a sorted list of the specified iterable object.\n",
    "    NOTE: Sorted works with the same data types in the list.\n",
    "    \n",
    ".sort()\n",
    "    Definition: Sorts the given list.\n",
    "    \n",
    "    parameters for sorted() and .sort():\n",
    "        iterable - Required. The sequence to sort, list, dictionary, tuple etc.\n",
    "        key - Optional. A Function to execute to decide the order. Default is None.\n",
    "        reverse - Optional. A boolean. False will sort ascending, True will sort descending.\n",
    "\"\"\"\n",
    "# num_lst = [2, False, \"two\"]\n",
    "# srt_lst = sorted(num_lst)  # Error\n",
    "num_lst2 = [\"a\", \"c\", \"d\", \"b\"]\n",
    "srt_lst2 = sorted(num_lst2)\n",
    "#print(srt_lst)\n",
    "print(id(num_lst2), num_lst2)\n",
    "num_lst2.sort()\n",
    "print(id(srt_lst2), srt_lst2)\n",
    "\n",
    "print()\n",
    "\n",
    "# key= and reverse=\n",
    "def len_func(e): return len(e)\n",
    "cars = ['Ford', 'Mitsubishi', 'BMW', 'VW']\n",
    "cars.sort(key=len_func, reverse=True)\n",
    "print(cars)"
   ]
  },
  {
   "cell_type": "markdown",
   "id": "3dbda88c",
   "metadata": {},
   "source": [
    "#### del()"
   ]
  },
  {
   "cell_type": "markdown",
   "id": "6cde3b8e",
   "metadata": {},
   "source": [
    "### ****in, not in*** operators"
   ]
  },
  {
   "cell_type": "code",
   "execution_count": 7,
   "id": "51f45837",
   "metadata": {},
   "outputs": [
    {
     "name": "stdout",
     "output_type": "stream",
     "text": [
      "True\n",
      "False\n",
      "\n",
      "True\n",
      "False\n",
      "False\n"
     ]
    }
   ],
   "source": [
    "# Check wether a value is part of a sequence\n",
    "lst_is = [1, 2, 3, 4, 5]\n",
    "print(3 in lst_is)\n",
    "print(6 in lst_is)\n",
    "\n",
    "print()\n",
    "\n",
    "msg = \"Hi there mah' people!\"\n",
    "print(\"o\" in msg)\n",
    "print(\"O\" in msg)\n",
    "print(\"x\" in msg) "
   ]
  },
  {
   "cell_type": "markdown",
   "id": "74b93869",
   "metadata": {},
   "source": [
    "### Lists in lists - Matrices and cubes"
   ]
  },
  {
   "cell_type": "code",
   "execution_count": 23,
   "id": "21a0c3f3",
   "metadata": {},
   "outputs": [
    {
     "data": {
      "text/html": [
       "<div>\n",
       "<style scoped>\n",
       "    .dataframe tbody tr th:only-of-type {\n",
       "        vertical-align: middle;\n",
       "    }\n",
       "\n",
       "    .dataframe tbody tr th {\n",
       "        vertical-align: top;\n",
       "    }\n",
       "\n",
       "    .dataframe thead th {\n",
       "        text-align: right;\n",
       "    }\n",
       "</style>\n",
       "<table border=\"1\" class=\"dataframe\">\n",
       "  <thead>\n",
       "    <tr style=\"text-align: right;\">\n",
       "      <th></th>\n",
       "      <th>Employee Id</th>\n",
       "      <th>Employee Name</th>\n",
       "      <th>Employee Dept.</th>\n",
       "    </tr>\n",
       "  </thead>\n",
       "  <tbody>\n",
       "    <tr>\n",
       "      <th>0</th>\n",
       "      <td>1001A</td>\n",
       "      <td>Ray</td>\n",
       "      <td>Technical Head</td>\n",
       "    </tr>\n",
       "    <tr>\n",
       "      <th>1</th>\n",
       "      <td>2004B</td>\n",
       "      <td>Karlos</td>\n",
       "      <td>Manager</td>\n",
       "    </tr>\n",
       "    <tr>\n",
       "      <th>2</th>\n",
       "      <td>3100A</td>\n",
       "      <td>Alex</td>\n",
       "      <td>Lead Developer</td>\n",
       "    </tr>\n",
       "  </tbody>\n",
       "</table>\n",
       "</div>"
      ],
      "text/plain": [
       "  Employee Id Employee Name  Employee Dept.\n",
       "0       1001A           Ray  Technical Head\n",
       "1       2004B        Karlos         Manager\n",
       "2       3100A          Alex  Lead Developer"
      ]
     },
     "execution_count": 23,
     "metadata": {},
     "output_type": "execute_result"
    }
   ],
   "source": [
    "import pandas as pd\n",
    "\n",
    "# Two-dimensional arrays\n",
    "two_dim_arr = np.array([['1001A','Ray', 'Technical Head'], ['2004B', 'Karlos' , 'Manager'], ['3100A', 'Alex' , 'Lead Developer']])\n",
    "two_dim_arr\n",
    "pd.DataFrame(two_dim_arr, columns=[\"Employee Id\", \"Employee Name\", \"Employee Dept.\"])\n"
   ]
  },
  {
   "cell_type": "code",
   "execution_count": 24,
   "id": "edfb0ebb",
   "metadata": {},
   "outputs": [
    {
     "name": "stdout",
     "output_type": "stream",
     "text": [
      "   FName     LName  Age\n",
      "0    Tom   Reacher   25\n",
      "1  Krish      Pete   30\n",
      "2   Nick    Wilson   26\n",
      "3   Juli  Williams   22\n"
     ]
    }
   ],
   "source": [
    "# Two-dimensional list\n",
    "lst = [['Tom', 'Reacher', 25], ['Krish', 'Pete', 30], \n",
    "       ['Nick', 'Wilson', 26], ['Juli', 'Williams', 22]] \n",
    "      \n",
    "df = pd.DataFrame(lst, columns =['FName', 'LName', 'Age']) \n",
    "print(df)"
   ]
  },
  {
   "cell_type": "code",
   "execution_count": 29,
   "id": "f4ec8a24",
   "metadata": {},
   "outputs": [
    {
     "name": "stdout",
     "output_type": "stream",
     "text": [
      "[[1 2 3]\n",
      " [4 5 6]]\n",
      "[[ 7  8  9]\n",
      " [10 11 12]]\n"
     ]
    }
   ],
   "source": [
    "# Multi-dimensional array/list\n",
    "multi_arr = np.array([[[1, 2, 3], [4, 5, 6]], [[7, 8, 9], [10, 11, 12]]])\n",
    "for x in multi_arr:\n",
    "    print(x)"
   ]
  },
  {
   "cell_type": "code",
   "execution_count": 32,
   "id": "4c5f2b46",
   "metadata": {},
   "outputs": [
    {
     "data": {
      "text/plain": [
       "5"
      ]
     },
     "execution_count": 32,
     "metadata": {},
     "output_type": "execute_result"
    }
   ],
   "source": [
    "# Accessing item: 5\n",
    "multi_arr[0][1][1]"
   ]
  },
  {
   "cell_type": "markdown",
   "id": "d7e8737c",
   "metadata": {},
   "source": [
    "### Tuples ###\n",
    "---\n",
    "`count()` Returns the number of times a specified value occurs in a tuple\n",
    "***\n",
    "`index()` Searches the tuple for a specified value and returns the position of where it was found\n",
    "***\n",
    "`len()` Returns the number of items in an object.\n",
    "***"
   ]
  },
  {
   "cell_type": "code",
   "execution_count": 57,
   "id": "97cdc960",
   "metadata": {},
   "outputs": [
    {
     "name": "stdout",
     "output_type": "stream",
     "text": [
      "(1, 'Hello', False, [3, 3, 4])\n",
      "(0, 1, 2, 3, 4, 5, 6, 7, 8, 9, 10)\n",
      "(  ((21, 'age'), (10, 'age'), (76, 'age')),\n",
      "   ((89, 'grade'), (100, 'grade'), (90, 'grade')))\n"
     ]
    },
    {
     "data": {
      "text/plain": [
       "89"
      ]
     },
     "execution_count": 57,
     "metadata": {},
     "output_type": "execute_result"
    }
   ],
   "source": [
    "# Tuples are immutable once created, items can only be accessed.\n",
    "from pprint import PrettyPrinter\n",
    "tup1 = (1, \"Hello\", False, [3, 3, 4])\n",
    "print(tup1)\n",
    "\n",
    "tup2 = tuple(x for x in range(11))\n",
    "print(tup2)\n",
    "\n",
    "dim_tup = (((21, \"age\"), (10, \"age\"), (76, \"age\")), ((89, \"grade\"), (100, \"grade\"), (90, \"grade\")))\n",
    "pp = PrettyPrinter(indent=3, depth=5)\n",
    "pp.pprint(dim_tup)\n",
    "dim_tup[1][0][0]"
   ]
  },
  {
   "cell_type": "code",
   "execution_count": 35,
   "id": "d0f4798e",
   "metadata": {},
   "outputs": [
    {
     "data": {
      "text/plain": [
       "1"
      ]
     },
     "execution_count": 35,
     "metadata": {},
     "output_type": "execute_result"
    }
   ],
   "source": [
    "tup1\n",
    "tup1[0]"
   ]
  },
  {
   "cell_type": "code",
   "execution_count": 37,
   "id": "c6eac23a",
   "metadata": {},
   "outputs": [
    {
     "ename": "TypeError",
     "evalue": "'tuple' object does not support item assignment",
     "output_type": "error",
     "traceback": [
      "\u001b[0;31m---------------------------------------------------------------------------\u001b[0m",
      "\u001b[0;31mTypeError\u001b[0m                                 Traceback (most recent call last)",
      "\u001b[0;32m/var/folders/hn/v9ywtfzj10d0bxc_h5w12hxr0000gn/T/ipykernel_3730/4054753299.py\u001b[0m in \u001b[0;36m<module>\u001b[0;34m\u001b[0m\n\u001b[0;32m----> 1\u001b[0;31m \u001b[0mtup1\u001b[0m\u001b[0;34m[\u001b[0m\u001b[0;36m1\u001b[0m\u001b[0;34m]\u001b[0m \u001b[0;34m=\u001b[0m \u001b[0;34m\"Hi\"\u001b[0m\u001b[0;34m\u001b[0m\u001b[0;34m\u001b[0m\u001b[0m\n\u001b[0m",
      "\u001b[0;31mTypeError\u001b[0m: 'tuple' object does not support item assignment"
     ]
    }
   ],
   "source": [
    "tup1[1] = \"Hi\""
   ]
  },
  {
   "cell_type": "markdown",
   "id": "e328b87b",
   "metadata": {},
   "source": [
    "## Dictionaries\n",
    "---\n",
    "`clear()` Removes all the elements from the dictionary.\n",
    "***\n",
    "`copy()` Returns a copy of the dictionary.\n",
    "***\n",
    "`fromkeys()` Returns a dictionary with the specified keys and value.\n",
    "***\n",
    "`get()` Returns the value of the specified key.\n",
    "***\n",
    "`items()` Returns a list containing a tuple for each key value pair.\n",
    "***\n",
    "`keys()` Returns a list containing the dictionary's keys.\n",
    "***\n",
    "`pop()` Removes the element with the specified key\n",
    "***\n",
    "`popitem()` Removes the last inserted key-value pair.\n",
    "***\n",
    "`setdefault()` Returns the value of the specified key. If the key does not exist: insert the key, with the specified value.\n",
    "***\n",
    "`update()` Updates the dictionary with the specified key-value pairs.\n",
    "***\n",
    "`values()` Returns a list of all the values in the dictionary\n",
    "***\n"
   ]
  },
  {
   "cell_type": "code",
   "execution_count": 59,
   "id": "8e232a64",
   "metadata": {},
   "outputs": [
    {
     "name": "stdout",
     "output_type": "stream",
     "text": [
      "<class 'dict'> <class 'dict'>\n"
     ]
    }
   ],
   "source": [
    "\"\"\"\n",
    "Create a new dictionary: {key: value}\n",
    "\"\"\"\n",
    "dict1 = {}\n",
    "dict2 = dict()\n",
    "print(type(dict1), type(dict2))"
   ]
  },
  {
   "cell_type": "code",
   "execution_count": 62,
   "id": "a1b220ac",
   "metadata": {},
   "outputs": [
    {
     "name": "stdout",
     "output_type": "stream",
     "text": [
      "{'name': 'Panchito', 'age': 30}\n"
     ]
    }
   ],
   "source": [
    "\"\"\"\n",
    "Adding new items\n",
    "\"\"\"\n",
    "dict1[\"name\"] = \"Panchito\"\n",
    "dict1[\"age\"] = 30\n",
    "print(dict1)"
   ]
  },
  {
   "cell_type": "code",
   "execution_count": 71,
   "id": "bb44da0d",
   "metadata": {},
   "outputs": [
    {
     "name": "stdout",
     "output_type": "stream",
     "text": [
      "Panchito\n",
      "nothing here!\n"
     ]
    }
   ],
   "source": [
    "\"\"\"\n",
    "Accessing dictionary values\n",
    "\"\"\"\n",
    "# Way 1, by indexing item key\n",
    "print(dict1[\"name\"])\n",
    "# print(dict1[\"school\"])  # Error if key doesn't exist\n",
    "\n",
    "# Way 2 .get(key), validation if item exists else provide a default value\n",
    "print(dict1.get(\"school\", \"nothing here!\"))\n"
   ]
  },
  {
   "cell_type": "markdown",
   "id": "235f73c7",
   "metadata": {},
   "source": [
    "### fromkeys()"
   ]
  },
  {
   "cell_type": "code",
   "execution_count": 73,
   "id": "e6f634a8",
   "metadata": {},
   "outputs": [
    {
     "name": "stdout",
     "output_type": "stream",
     "text": [
      "{'key1': 0, 'key2': 0, 'key3': 0}\n",
      "{'key1': 0, 'key2': 0, 'key3': 0}\n"
     ]
    }
   ],
   "source": [
    "# Create a new dictionary from variables.\n",
    "x = (\"key1\", \"key2\", \"key3\")\n",
    "default_val = 0\n",
    "dict3 = dict.fromkeys(x, default_val)\n",
    "dict4 = {}.fromkeys(x, default_val)\n",
    "print(dict3)\n",
    "print(dict4)"
   ]
  },
  {
   "cell_type": "markdown",
   "id": "71b45ae0",
   "metadata": {},
   "source": [
    "### .copy()"
   ]
  },
  {
   "cell_type": "code",
   "execution_count": 74,
   "id": "7986a0f2",
   "metadata": {},
   "outputs": [
    {
     "name": "stdout",
     "output_type": "stream",
     "text": [
      "140642574564928 140642547660608\n"
     ]
    }
   ],
   "source": [
    "cp_dict = dict3.copy()\n",
    "print(id(dict3), id(cp_dict))"
   ]
  },
  {
   "cell_type": "markdown",
   "id": "90e598c9",
   "metadata": {},
   "source": [
    "### .items()"
   ]
  },
  {
   "cell_type": "code",
   "execution_count": 75,
   "id": "c9ae5bb9",
   "metadata": {},
   "outputs": [
    {
     "name": "stdout",
     "output_type": "stream",
     "text": [
      "dict_items([('key1', 0), ('key2', 0), ('key3', 0)])\n"
     ]
    }
   ],
   "source": [
    "print(cp_dict.items())"
   ]
  },
  {
   "cell_type": "code",
   "execution_count": 80,
   "id": "d25b7d82",
   "metadata": {},
   "outputs": [
    {
     "name": "stdout",
     "output_type": "stream",
     "text": [
      "dict_keys(['name', 'age'])\n",
      "dict_values(['Panchito', 30])\n"
     ]
    }
   ],
   "source": [
    "print(dict1.keys())\n",
    "print(dict1.values())"
   ]
  },
  {
   "cell_type": "markdown",
   "id": "e473c9b8",
   "metadata": {},
   "source": [
    "### update()\n",
    "If item doesn't exist, it creates it."
   ]
  },
  {
   "cell_type": "code",
   "execution_count": 112,
   "id": "8be6d529",
   "metadata": {},
   "outputs": [
    {
     "name": "stdout",
     "output_type": "stream",
     "text": [
      "{'name': 'Panchito', 'age': 30, 'country': 'France', 'countri': 'China'}\n"
     ]
    }
   ],
   "source": [
    "dict1.update({\"country\": \"France\"})\n",
    "dict1.update({\"countri\": \"China\"})\n",
    "# dict1.update({\"country:\": \"Mexico\"})\n",
    "print(dict1)"
   ]
  },
  {
   "cell_type": "markdown",
   "id": "6a1e39c2",
   "metadata": {},
   "source": [
    "### popitem(key, value)"
   ]
  },
  {
   "cell_type": "code",
   "execution_count": 111,
   "id": "f3483261",
   "metadata": {},
   "outputs": [
    {
     "data": {
      "text/plain": [
       "('countri', 'China')"
      ]
     },
     "execution_count": 111,
     "metadata": {},
     "output_type": "execute_result"
    }
   ],
   "source": [
    "dict1.popitem()"
   ]
  },
  {
   "cell_type": "markdown",
   "id": "e6d8e29a",
   "metadata": {},
   "source": [
    "### .pop(key)"
   ]
  },
  {
   "cell_type": "code",
   "execution_count": 113,
   "id": "5e1aaf6c",
   "metadata": {},
   "outputs": [
    {
     "name": "stdout",
     "output_type": "stream",
     "text": [
      "{'name': 'Panchito', 'age': 30, 'country': 'France'}\n"
     ]
    }
   ],
   "source": [
    "dict1.pop(\"countri\")\n",
    "print(dict1)"
   ]
  },
  {
   "cell_type": "markdown",
   "id": "5b7a297c",
   "metadata": {},
   "source": [
    "### .setdefault(key, value)"
   ]
  },
  {
   "cell_type": "code",
   "execution_count": 98,
   "id": "5d4c713d",
   "metadata": {},
   "outputs": [
    {
     "name": "stdout",
     "output_type": "stream",
     "text": [
      "BMW\n",
      "{'model': 'BMW'}\n"
     ]
    }
   ],
   "source": [
    "car_dict2 = {}\n",
    "car_dict2.setdefault(\"model\", \"BMW\")\n",
    "\n",
    "print(car_dict2.setdefault(\"model\", \"Vocho\"))\n",
    "print(car_dict2)"
   ]
  },
  {
   "cell_type": "markdown",
   "id": "dab070ac",
   "metadata": {},
   "source": [
    "### .clear()"
   ]
  },
  {
   "cell_type": "code",
   "execution_count": 99,
   "id": "6057ca49",
   "metadata": {},
   "outputs": [
    {
     "name": "stdout",
     "output_type": "stream",
     "text": [
      "None\n",
      "0\n"
     ]
    }
   ],
   "source": [
    "print(car_dict2.clear())\n",
    "print(len(car_dict2))"
   ]
  },
  {
   "cell_type": "markdown",
   "id": "15b6a524",
   "metadata": {},
   "source": [
    "### Iterating through dictionaries"
   ]
  },
  {
   "cell_type": "code",
   "execution_count": 101,
   "id": "73817064",
   "metadata": {},
   "outputs": [
    {
     "name": "stdout",
     "output_type": "stream",
     "text": [
      "name\n",
      "age\n",
      "country\n",
      "countri\n"
     ]
    }
   ],
   "source": [
    "for key in dict1.keys():\n",
    "    print(key)"
   ]
  },
  {
   "cell_type": "code",
   "execution_count": 102,
   "id": "64e054ca",
   "metadata": {},
   "outputs": [
    {
     "name": "stdout",
     "output_type": "stream",
     "text": [
      "Panchito\n",
      "30\n",
      "France\n",
      "China\n"
     ]
    }
   ],
   "source": [
    "for value in dict1.values():\n",
    "    print(value)"
   ]
  },
  {
   "cell_type": "code",
   "execution_count": 110,
   "id": "83d71d4c",
   "metadata": {},
   "outputs": [
    {
     "name": "stdout",
     "output_type": "stream",
     "text": [
      "name Panchito\n",
      "age 30\n",
      "country France\n",
      "countri China\n"
     ]
    }
   ],
   "source": [
    "for key, val in dict1.items():\n",
    "    print(key, val)"
   ]
  },
  {
   "cell_type": "code",
   "execution_count": null,
   "id": "1d9f0f62",
   "metadata": {},
   "outputs": [],
   "source": []
  }
 ],
 "metadata": {
  "kernelspec": {
   "display_name": "Python 3 (ipykernel)",
   "language": "python",
   "name": "python3"
  },
  "language_info": {
   "codemirror_mode": {
    "name": "ipython",
    "version": 3
   },
   "file_extension": ".py",
   "mimetype": "text/x-python",
   "name": "python",
   "nbconvert_exporter": "python",
   "pygments_lexer": "ipython3",
   "version": "3.10.0"
  }
 },
 "nbformat": 4,
 "nbformat_minor": 5
}

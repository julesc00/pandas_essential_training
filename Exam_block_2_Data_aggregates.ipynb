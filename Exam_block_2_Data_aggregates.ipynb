{
 "cells": [
  {
   "cell_type": "markdown",
   "id": "a1ea3452",
   "metadata": {},
   "source": [
    "# Exam Block 2: Data Aggregates\n",
    "***"
   ]
  },
  {
   "cell_type": "markdown",
   "id": "5d4ac378",
   "metadata": {},
   "source": [
    "# I. Strings in Detail"
   ]
  },
  {
   "cell_type": "markdown",
   "id": "71934ef6",
   "metadata": {},
   "source": [
    "### ASCII, UNICODE, UTF-8\n",
    "1. **ASCII (American Standard Code for Information Interchange); ASCII codes represent text in computers**\n",
    "    \n",
    "![ASCII Code](images/ASCII_full.svg \"ASCII Code\")\n"
   ]
  },
  {
   "cell_type": "code",
   "execution_count": 1,
   "id": "2cd1f328",
   "metadata": {},
   "outputs": [],
   "source": [
    "# Python program to illustrate ascii()\n",
    "ascii_str = \"La grande fête!\""
   ]
  },
  {
   "cell_type": "code",
   "execution_count": 4,
   "id": "b11d6b5f",
   "metadata": {},
   "outputs": [
    {
     "name": "stdout",
     "output_type": "stream",
     "text": [
      "'La grande f\\xeate!'\n"
     ]
    }
   ],
   "source": [
    "print(ascii(ascii_str))"
   ]
  },
  {
   "cell_type": "code",
   "execution_count": 8,
   "id": "3314310c",
   "metadata": {},
   "outputs": [
    {
     "name": "stdout",
     "output_type": "stream",
     "text": [
      "'\\xa5'\n"
     ]
    }
   ],
   "source": [
    "print(ascii(\"¥\"))"
   ]
  },
  {
   "cell_type": "code",
   "execution_count": 11,
   "id": "ec2ed7f5",
   "metadata": {
    "scrolled": false
   },
   "outputs": [
    {
     "name": "stdout",
     "output_type": "stream",
     "text": [
      "'Stra\\xdfe'\n"
     ]
    }
   ],
   "source": [
    "print(ascii(\"Straße\"))"
   ]
  },
  {
   "cell_type": "code",
   "execution_count": 9,
   "id": "abde2a77",
   "metadata": {},
   "outputs": [
    {
     "name": "stdout",
     "output_type": "stream",
     "text": [
      "'\\u0420\\u043e\\u0441\\u0441\\u0438\\u044f'\n"
     ]
    }
   ],
   "source": [
    "print(ascii(\"Россия\"))"
   ]
  },
  {
   "cell_type": "code",
   "execution_count": 7,
   "id": "1d91c600",
   "metadata": {},
   "outputs": [
    {
     "data": {
      "text/plain": [
       "str"
      ]
     },
     "execution_count": 7,
     "metadata": {},
     "output_type": "execute_result"
    }
   ],
   "source": [
    "type(ascii(\"Россия\"))"
   ]
  },
  {
   "cell_type": "markdown",
   "id": "f03eaa17",
   "metadata": {},
   "source": [
    "### UNICODE, UTF-8 (8 bits), UTF16 (16 bits: Java, JavaScript)\n",
    "2. **Unicode Standard: Encoding representation in most writing systems (includes characters of non-Latin languages and disciplines)**"
   ]
  },
  {
   "cell_type": "markdown",
   "id": "0073f17a",
   "metadata": {},
   "source": [
    "![Escape Sequence](images/escaping_sequence.png \"Escape Sequence\")"
   ]
  },
  {
   "cell_type": "code",
   "execution_count": 28,
   "id": "ad5de5b1",
   "metadata": {},
   "outputs": [],
   "source": [
    "unicode_str = \"街道\"  # Chinese meaning 'street'"
   ]
  },
  {
   "cell_type": "code",
   "execution_count": 29,
   "id": "bcafae7a",
   "metadata": {},
   "outputs": [
    {
     "name": "stdout",
     "output_type": "stream",
     "text": [
      "街道\n"
     ]
    }
   ],
   "source": [
    "print(unicode_str)"
   ]
  },
  {
   "cell_type": "code",
   "execution_count": 19,
   "id": "325f9c56",
   "metadata": {},
   "outputs": [
    {
     "name": "stdout",
     "output_type": "stream",
     "text": [
      "'\\u8857\\u9053'\n"
     ]
    }
   ],
   "source": [
    "print(ascii(unicode_str))"
   ]
  },
  {
   "cell_type": "code",
   "execution_count": 26,
   "id": "5ddd8376",
   "metadata": {},
   "outputs": [
    {
     "name": "stdout",
     "output_type": "stream",
     "text": [
      "街道\n"
     ]
    }
   ],
   "source": [
    "print(unicode_str)"
   ]
  },
  {
   "cell_type": "code",
   "execution_count": 55,
   "id": "f307c007",
   "metadata": {},
   "outputs": [
    {
     "name": "stdout",
     "output_type": "stream",
     "text": [
      "街道\n"
     ]
    }
   ],
   "source": [
    "print(\"\\u8857\\u9053\")"
   ]
  },
  {
   "cell_type": "markdown",
   "id": "e6c7c8d7",
   "metadata": {},
   "source": [
    "## Normalizing Unicode Text to a Standard Representation"
   ]
  },
  {
   "cell_type": "code",
   "execution_count": 72,
   "id": "e707206e",
   "metadata": {},
   "outputs": [],
   "source": [
    "import unicodedata"
   ]
  },
  {
   "cell_type": "code",
   "execution_count": 82,
   "id": "94916c56",
   "metadata": {},
   "outputs": [
    {
     "name": "stdout",
     "output_type": "stream",
     "text": [
      "Spicy Jalapeño\n",
      "'Spicy Jalape\\xf1o'\n"
     ]
    }
   ],
   "source": [
    "s1 = \"Spicy Jalape\\u00f1o\"\n",
    "print(s1)\n",
    "print(ascii(s1))"
   ]
  },
  {
   "cell_type": "code",
   "execution_count": 83,
   "id": "7f8f89d4",
   "metadata": {},
   "outputs": [
    {
     "name": "stdout",
     "output_type": "stream",
     "text": [
      "Spicy Jalapeño\n",
      "'Spicy Jalapen\\u0303o'\n"
     ]
    }
   ],
   "source": [
    "s2 = \"Spicy Jalapen\\u0303o\"\n",
    "print(s2)\n",
    "print(ascii(s2))"
   ]
  },
  {
   "cell_type": "code",
   "execution_count": 81,
   "id": "e97b9829",
   "metadata": {},
   "outputs": [
    {
     "name": "stdout",
     "output_type": "stream",
     "text": [
      "Spicy Jalapeño\n",
      "'Spicy Jalapen\\u0303o'\n",
      "\n",
      " Spicy Jalapeño\n",
      "'Spicy Jalapen\\u0303o'\n"
     ]
    }
   ],
   "source": [
    "\"\"\"\n",
    "Normalizing unicode text\n",
    "NFD: Characters should be fully decomposed  with the use of combining characters.\n",
    "\"\"\"\n",
    "\n",
    "t1 = unicodedata.normalize(\"NFD\", s1)\n",
    "print(t1)\n",
    "print(ascii(t1))\n",
    "\n",
    "t2 = unicodedata.normalize(\"NFD\", s2)\n",
    "print(\"\\n\", t2)\n",
    "print(ascii(t2))"
   ]
  },
  {
   "cell_type": "markdown",
   "id": "72b7fc9a",
   "metadata": {},
   "source": [
    "## Escaping using \\ character\n",
    "![Escape Characters](images/escape_chars.png \"Escape Characters\")"
   ]
  },
  {
   "cell_type": "code",
   "execution_count": 39,
   "id": "701578f6",
   "metadata": {},
   "outputs": [
    {
     "name": "stdout",
     "output_type": "stream",
     "text": [
      "One line, \n",
      "This is another line\n"
     ]
    }
   ],
   "source": [
    "print(\"One line, \\nThis is another line\")"
   ]
  },
  {
   "cell_type": "code",
   "execution_count": 40,
   "id": "976a9d42",
   "metadata": {},
   "outputs": [
    {
     "name": "stdout",
     "output_type": "stream",
     "text": [
      "to tab use \\t\n",
      "This is an example:\n",
      "\ton a new line.\n"
     ]
    }
   ],
   "source": [
    "print(\"to tab use \\\\t\")\n",
    "print(\"This is an example:\\n\\ton a new line.\")"
   ]
  },
  {
   "cell_type": "code",
   "execution_count": 44,
   "id": "68fe6dea",
   "metadata": {},
   "outputs": [
    {
     "name": "stdout",
     "output_type": "stream",
     "text": [
      "This is an example of a 'single' quote string.\n"
     ]
    }
   ],
   "source": [
    "print('This is an example of a \\'single\\' quote string.')"
   ]
  },
  {
   "cell_type": "code",
   "execution_count": 43,
   "id": "53a4b84b",
   "metadata": {},
   "outputs": [
    {
     "name": "stdout",
     "output_type": "stream",
     "text": [
      "Double quote string with \"double\" quote!\n"
     ]
    }
   ],
   "source": [
    "print(\"Double quote string with \\\"double\\\" quote!\")"
   ]
  },
  {
   "cell_type": "code",
   "execution_count": 46,
   "id": "bfd9b9ec",
   "metadata": {},
   "outputs": [
    {
     "name": "stdout",
     "output_type": "stream",
     "text": [
      "Hello \bWorld!\n"
     ]
    }
   ],
   "source": [
    "print(\"Hello \\bWorld!\")  # Erase one space (backspace)"
   ]
  },
  {
   "cell_type": "code",
   "execution_count": 48,
   "id": "fa420111",
   "metadata": {},
   "outputs": [
    {
     "name": "stdout",
     "output_type": "stream",
     "text": [
      "you see me not \r",
      "now you see me!\n"
     ]
    }
   ],
   "source": [
    "print(\"you see me not \\rnow you see me!\")"
   ]
  },
  {
   "cell_type": "code",
   "execution_count": 54,
   "id": "79133f4b",
   "metadata": {},
   "outputs": [
    {
     "name": "stdout",
     "output_type": "stream",
     "text": [
      "Hello\n"
     ]
    }
   ],
   "source": [
    "print(\"\\110\\145\\154\\154\\157\")  # \\ooo (octal)"
   ]
  },
  {
   "cell_type": "markdown",
   "id": "2ce230c7",
   "metadata": {},
   "source": [
    "## String Copying"
   ]
  },
  {
   "cell_type": "code",
   "execution_count": 56,
   "id": "a6a821ba",
   "metadata": {},
   "outputs": [],
   "source": [
    "str1 = \"This is string 1\""
   ]
  },
  {
   "cell_type": "code",
   "execution_count": 125,
   "id": "4ef060c8",
   "metadata": {},
   "outputs": [
    {
     "data": {
      "text/plain": [
       "True"
      ]
     },
     "execution_count": 125,
     "metadata": {},
     "output_type": "execute_result"
    }
   ],
   "source": [
    "str2 = str1  # One way\n",
    "str1==str2"
   ]
  },
  {
   "cell_type": "code",
   "execution_count": 124,
   "id": "4b389aed",
   "metadata": {},
   "outputs": [
    {
     "name": "stdout",
     "output_type": "stream",
     "text": [
      "140686408582688\n",
      "140686408582688\n"
     ]
    }
   ],
   "source": [
    "print(id(str1))\n",
    "print(id(str2))"
   ]
  },
  {
   "cell_type": "code",
   "execution_count": 122,
   "id": "b90d112a",
   "metadata": {},
   "outputs": [
    {
     "data": {
      "text/plain": [
       "140686408582688"
      ]
     },
     "execution_count": 122,
     "metadata": {},
     "output_type": "execute_result"
    }
   ],
   "source": [
    "str3 = str(str2)  # A second way\n",
    "id(str3)"
   ]
  },
  {
   "cell_type": "code",
   "execution_count": 121,
   "id": "c2b6d73c",
   "metadata": {},
   "outputs": [
    {
     "name": "stdout",
     "output_type": "stream",
     "text": [
      "This is string 1\n"
     ]
    }
   ],
   "source": [
    "str4 = str3[:]  # A third way\n",
    "print(str4)"
   ]
  },
  {
   "cell_type": "code",
   "execution_count": 120,
   "id": "6aded9f8",
   "metadata": {},
   "outputs": [
    {
     "name": "stdout",
     "output_type": "stream",
     "text": [
      "This is string 1\n"
     ]
    },
    {
     "data": {
      "text/plain": [
       "140686408582688"
      ]
     },
     "execution_count": 120,
     "metadata": {},
     "output_type": "execute_result"
    }
   ],
   "source": [
    "str5 = \"\" + str4  # A fourth not so cool way :(\n",
    "print(str5)\n",
    "id(str5)"
   ]
  },
  {
   "cell_type": "markdown",
   "id": "da1356a0",
   "metadata": {},
   "source": [
    "## String slicing & indexing"
   ]
  },
  {
   "cell_type": "code",
   "execution_count": 106,
   "id": "93a73761",
   "metadata": {},
   "outputs": [
    {
     "name": "stdout",
     "output_type": "stream",
     "text": [
      "racecar\n"
     ]
    }
   ],
   "source": [
    "palindrome1 = \"racecar\"\n",
    "print(palindrome1[::-1])  # Read backwards reads the same ;)"
   ]
  },
  {
   "cell_type": "code",
   "execution_count": 115,
   "id": "fbc28980",
   "metadata": {},
   "outputs": [],
   "source": [
    "import numpy as np"
   ]
  },
  {
   "cell_type": "code",
   "execution_count": 118,
   "id": "5e034e92",
   "metadata": {},
   "outputs": [
    {
     "name": "stdout",
     "output_type": "stream",
     "text": [
      "[ 0  1  2  3  4  5  6  7  8  9 10]\n",
      "[10  9  8  7  6  5  4  3  2  1  0]\n"
     ]
    }
   ],
   "source": [
    "arr1 = np.arange(11)\n",
    "print(arr1)\n",
    "print(arr1[::-1])"
   ]
  },
  {
   "cell_type": "markdown",
   "id": "6f690863",
   "metadata": {},
   "source": [
    "## Some string manipulation methods"
   ]
  },
  {
   "cell_type": "markdown",
   "id": "72b987d9",
   "metadata": {},
   "source": [
    "**upper()** and **lower()**"
   ]
  },
  {
   "cell_type": "code",
   "execution_count": 127,
   "id": "7ea9b347",
   "metadata": {},
   "outputs": [
    {
     "name": "stdout",
     "output_type": "stream",
     "text": [
      "THIS IS A STRING\n"
     ]
    }
   ],
   "source": [
    "str1 = \"this is a string\".upper()\n",
    "print(str1)"
   ]
  },
  {
   "cell_type": "code",
   "execution_count": 128,
   "id": "6f8055ca",
   "metadata": {},
   "outputs": [
    {
     "name": "stdout",
     "output_type": "stream",
     "text": [
      "this is a string\n"
     ]
    }
   ],
   "source": [
    "print(str1.lower())"
   ]
  },
  {
   "cell_type": "markdown",
   "id": "5411eadf",
   "metadata": {},
   "source": [
    "## isxxx() methods\n",
    "1. `isupper()` Returns True if the string has at least one letter and all the letters are uppercase.\n",
    "1. `islower()` Returns True if the string has at least one letter and all the letters are lowercase.\n",
    "1. `isalpha()` Returns True if the string consists only of letters and is not blank.\n",
    "1. `isalnum()` Returns True if the string consists only of letters and numbers and is not blank.\n",
    "1. `isdecimal()` Returns True if the string consists only of numeric characters and is not blank.\n",
    "1. `isspace()` Returns True if the string consists only of spaces, tabs, and new-lines and is not blank.\n",
    "1. `istitle()` Returns True if the string consists only of words that begin with an uppercase letter followed by only lowercase letters"
   ]
  },
  {
   "cell_type": "code",
   "execution_count": 177,
   "id": "8c4f2730",
   "metadata": {},
   "outputs": [
    {
     "name": "stdout",
     "output_type": "stream",
     "text": [
      "islower() only boolean: False\n",
      "isupper() only boolean: True\n",
      "True\n",
      "False\n",
      "True\n",
      "True\n"
     ]
    }
   ],
   "source": [
    "msg = \"Hello world!\"\n",
    "print(f\"islower() only boolean: {msg.islower()}\")\n",
    "\n",
    "msg2 = msg.upper()\n",
    "print(f\"isupper() only boolean: {msg2.isupper()}\")\n",
    "\n",
    "\n",
    "name = \"M234onica\"\n",
    "print(name.isalnum())\n",
    "\n",
    "# contains whitespace\n",
    "name = \"M3onica Gell22er \"\n",
    "print(name.isalnum())\n",
    "\n",
    "name = \"Mo3nicaGell22er\"\n",
    "print(name.isalnum())\n",
    "\n",
    "name = \"133\"\n",
    "print(name.isalnum())"
   ]
  },
  {
   "cell_type": "markdown",
   "id": "7e9d2ee0",
   "metadata": {},
   "source": [
    "**capitalize()**"
   ]
  },
  {
   "cell_type": "code",
   "execution_count": 179,
   "id": "930f8b54",
   "metadata": {},
   "outputs": [
    {
     "name": "stdout",
     "output_type": "stream",
     "text": [
      "Why the rite?\n"
     ]
    }
   ],
   "source": [
    "title = \"why the rite?\"\n",
    "print(title.capitalize())"
   ]
  },
  {
   "cell_type": "markdown",
   "id": "6796045a",
   "metadata": {},
   "source": [
    "**split()**"
   ]
  },
  {
   "cell_type": "code",
   "execution_count": 136,
   "id": "7a036222",
   "metadata": {},
   "outputs": [
    {
     "name": "stdout",
     "output_type": "stream",
     "text": [
      "['THIS', 'IS', 'A', 'STRING']\n",
      "['STRING', 'A', 'IS', 'THIS']\n",
      "STRING A IS THIS\n"
     ]
    }
   ],
   "source": [
    "str_lst = str1.split(\" \")\n",
    "print(str_lst)\n",
    "\n",
    "list_reversed = str_lst[::-1]\n",
    "list_reversed2 = list(reversed(str_lst))  # Another reversing approach\n",
    "print(list_reversed2)\n",
    "str_reversed = \" \".join(list_reversed)\n",
    "print(str_reversed)"
   ]
  },
  {
   "cell_type": "code",
   "execution_count": 143,
   "id": "66452bf5",
   "metadata": {},
   "outputs": [
    {
     "name": "stdout",
     "output_type": "stream",
     "text": [
      "['The', 'Gee', 'is', 'in the house and not over there!']\n"
     ]
    }
   ],
   "source": [
    "str2 = \"The Gee is in the house and not over there!\"\n",
    "lst = str2.split(\" \", 3)  # split(separator, maxsplit(option, default -1))\n",
    "print(lst)"
   ]
  },
  {
   "cell_type": "markdown",
   "id": "63f7ec69",
   "metadata": {},
   "source": [
    "### len(), chr(), ord()\n",
    "\n",
    "#### chr() A character whose Unicode code point is the integer\n",
    "#### Valid range from 0 to 1,114,111"
   ]
  },
  {
   "cell_type": "code",
   "execution_count": 146,
   "id": "5a21da50",
   "metadata": {},
   "outputs": [
    {
     "name": "stdout",
     "output_type": "stream",
     "text": [
      "43\n",
      "0\n"
     ]
    }
   ],
   "source": [
    "print(len(str2))\n",
    "\n",
    "dict1 = dict()\n",
    "print(len(dict1))"
   ]
  },
  {
   "cell_type": "code",
   "execution_count": 153,
   "id": "ac8d7d9e",
   "metadata": {},
   "outputs": [
    {
     "name": "stdout",
     "output_type": "stream",
     "text": [
      "$\n",
      "􏿿\n"
     ]
    }
   ],
   "source": [
    "char1 = chr(36)\n",
    "print(char1)\n",
    "type(char1)\n",
    "\n",
    "char2 = chr(1_114_111)\n",
    "print(char2)\n"
   ]
  },
  {
   "cell_type": "code",
   "execution_count": 154,
   "id": "c1ac666d",
   "metadata": {},
   "outputs": [
    {
     "name": "stdout",
     "output_type": "stream",
     "text": [
      "80\n"
     ]
    }
   ],
   "source": [
    "char = \"P\"\n",
    "# Find unicode of P\n",
    "u_code = ord(char)\n",
    "print(u_code)"
   ]
  },
  {
   "cell_type": "markdown",
   "id": "ec4cfd25",
   "metadata": {},
   "source": [
    "# II. Lists in Detail\n"
   ]
  },
  {
   "cell_type": "markdown",
   "id": "33d9cdc4",
   "metadata": {},
   "source": [
    "## Indexing: start index (default is 0), (last index is -1)"
   ]
  },
  {
   "cell_type": "code",
   "execution_count": 222,
   "id": "dd663051",
   "metadata": {},
   "outputs": [
    {
     "name": "stdout",
     "output_type": "stream",
     "text": [
      "there\n",
      "4\n",
      "['Hello', 'there', 'my', 'people!']\n",
      "<class 'list'> 120\n",
      "array('h', [0, 1, 2, 3, 4, 5, 6]) 94\n",
      "t\n",
      "Original lst1 id: 140686435172672\n",
      "Shallow copied list: 140686435172672\n",
      "140686435172672\n",
      "140686435188096\n"
     ]
    }
   ],
   "source": [
    "\n",
    "lst1 = [\"Hello\", [], \"there\", 100, \"my\", False, \"people!\"]\n",
    "print(lst1[2])\n",
    "\n",
    "\"\"\"\n",
    "Item index finding\n",
    "    parameters:\n",
    "        element - the element to be searched,\n",
    "        start(optional) - start searching from this index,\n",
    "        end(optional) - search the element up to this index.\n",
    "\"\"\"\n",
    "print(lst1.index(\"my\", 0, -2))\n",
    "\n",
    "# Hop every other item starting from index zero\n",
    "print(lst1[::2])\n",
    "\n",
    "\n",
    "# List index drilling\n",
    "print(lst1[2][0])\n",
    "\n",
    "\"\"\"\n",
    "List referencing: good for working with the new copy but still want original list modification \n",
    "available.\n",
    "\"\"\"\n",
    "shallow_copy_list = lst1\n",
    "print(f\"Original lst1 id: {id(lst1)}\")\n",
    "print(f\"Shallow copied list: {id(shallow_copy_list)}\")\n",
    "\n",
    "# List duplication, two different objects.\n",
    "lst2 = lst1[:]\n",
    "print(id(lst1))\n",
    "print(id(lst2))"
   ]
  },
  {
   "cell_type": "markdown",
   "id": "927c7699",
   "metadata": {},
   "source": [
    "## Numeric arrays\n",
    "\n",
    "![Array methods](images/array_methods.png \"Array methods\")\n",
    "![Type Codes](images/array_type_code.png \"Type code\")"
   ]
  },
  {
   "cell_type": "code",
   "execution_count": 240,
   "id": "fb33e096",
   "metadata": {},
   "outputs": [
    {
     "name": "stdout",
     "output_type": "stream",
     "text": [
      "<class 'list'> 120\n",
      "8856\n",
      "<class 'array.array'> 87\n",
      "2082\n",
      "<class 'numpy.ndarray'>\n",
      "8112\n"
     ]
    }
   ],
   "source": [
    "from array import array\n",
    "import sys\n",
    "\n",
    "\n",
    "# Creating a numeric array based on the last item length\n",
    "num_lst = [0, 1, 2, 3, 4, 5, 6]\n",
    "print(type(num_lst), sys.getsizeof(num_lst))\n",
    "num_lst2 = [x for x in range(1000+1)]\n",
    "print(sys.getsizeof(num_lst2))\n",
    "\n",
    "arr = array(\"b\", [0, 1, 2, 3, 4, 5, 6])\n",
    "print(type(arr), sys.getsizeof(arr))\n",
    "arr2 = array(\"h\", [x for x in range(1000+1)])\n",
    "print(sys.getsizeof(arr2))\n",
    "\n",
    "arr3 = np.arange(1001)\n",
    "print(type(arr3))\n",
    "print(sys.getsizeof(arr3))"
   ]
  },
  {
   "cell_type": "code",
   "execution_count": null,
   "id": "e31cd57a",
   "metadata": {},
   "outputs": [],
   "source": []
  }
 ],
 "metadata": {
  "kernelspec": {
   "display_name": "Python 3 (ipykernel)",
   "language": "python",
   "name": "python3"
  },
  "language_info": {
   "codemirror_mode": {
    "name": "ipython",
    "version": 3
   },
   "file_extension": ".py",
   "mimetype": "text/x-python",
   "name": "python",
   "nbconvert_exporter": "python",
   "pygments_lexer": "ipython3",
   "version": "3.10.0"
  }
 },
 "nbformat": 4,
 "nbformat_minor": 5
}

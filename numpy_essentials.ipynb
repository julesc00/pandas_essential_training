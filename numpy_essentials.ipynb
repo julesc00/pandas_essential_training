{
 "cells": [
  {
   "cell_type": "markdown",
   "id": "6774d4b2",
   "metadata": {},
   "source": [
    "Another less than 2 hrs course from Terezija Semenski, at LinkedIn"
   ]
  },
  {
   "cell_type": "markdown",
   "id": "4393ab52",
   "metadata": {},
   "source": [
    "### Numpy Essential Training"
   ]
  },
  {
   "cell_type": "code",
   "execution_count": 1,
   "id": "af983086",
   "metadata": {},
   "outputs": [],
   "source": [
    "import numpy as np"
   ]
  },
  {
   "cell_type": "code",
   "execution_count": 2,
   "id": "d69463f9",
   "metadata": {},
   "outputs": [],
   "source": [
    "a = np.arange(1, 11)"
   ]
  },
  {
   "cell_type": "code",
   "execution_count": 3,
   "id": "b77c2080",
   "metadata": {},
   "outputs": [
    {
     "name": "stdout",
     "output_type": "stream",
     "text": [
      "[ 1  2  3  4  5  6  7  8  9 10]\n"
     ]
    }
   ],
   "source": [
    "print(a)"
   ]
  },
  {
   "cell_type": "code",
   "execution_count": 4,
   "id": "69d662ec",
   "metadata": {},
   "outputs": [],
   "source": [
    "b = np.arange(21, 31)"
   ]
  },
  {
   "cell_type": "code",
   "execution_count": 5,
   "id": "b851e677",
   "metadata": {},
   "outputs": [
    {
     "name": "stdout",
     "output_type": "stream",
     "text": [
      "[21 22 23 24 25 26 27 28 29 30]\n"
     ]
    }
   ],
   "source": [
    "print(b)"
   ]
  },
  {
   "cell_type": "markdown",
   "id": "9918e7a2",
   "metadata": {},
   "source": [
    "# Lists & Arrays"
   ]
  },
  {
   "cell_type": "code",
   "execution_count": 6,
   "id": "15560159",
   "metadata": {},
   "outputs": [
    {
     "name": "stdout",
     "output_type": "stream",
     "text": [
      "<class 'numpy.ndarray'>\n"
     ]
    }
   ],
   "source": [
    "print(type(b))"
   ]
  },
  {
   "cell_type": "markdown",
   "id": "865381a9",
   "metadata": {},
   "source": [
    "## Array types and conversions between types"
   ]
  },
  {
   "cell_type": "code",
   "execution_count": 7,
   "id": "99bf025f",
   "metadata": {},
   "outputs": [
    {
     "ename": "TypeError",
     "evalue": "array() takes from 1 to 2 positional arguments but 3 were given",
     "output_type": "error",
     "traceback": [
      "\u001b[0;31m---------------------------------------------------------------------------\u001b[0m",
      "\u001b[0;31mTypeError\u001b[0m                                 Traceback (most recent call last)",
      "\u001b[0;32m/var/folders/hn/v9ywtfzj10d0bxc_h5w12hxr0000gn/T/ipykernel_18711/3422291869.py\u001b[0m in \u001b[0;36m<module>\u001b[0;34m\u001b[0m\n\u001b[0;32m----> 1\u001b[0;31m \u001b[0mintegers\u001b[0m \u001b[0;34m=\u001b[0m \u001b[0mnp\u001b[0m\u001b[0;34m.\u001b[0m\u001b[0marray\u001b[0m\u001b[0;34m(\u001b[0m\u001b[0;36m10\u001b[0m\u001b[0;34m,\u001b[0m \u001b[0;36m50\u001b[0m\u001b[0;34m,\u001b[0m \u001b[0;36m10\u001b[0m\u001b[0;34m)\u001b[0m\u001b[0;34m\u001b[0m\u001b[0;34m\u001b[0m\u001b[0m\n\u001b[0m",
      "\u001b[0;31mTypeError\u001b[0m: array() takes from 1 to 2 positional arguments but 3 were given"
     ]
    }
   ],
   "source": [
    "integers = np.array(10, 50, 10)"
   ]
  },
  {
   "cell_type": "code",
   "execution_count": 8,
   "id": "61cb6705",
   "metadata": {},
   "outputs": [],
   "source": [
    "integers = np.array([10, 20, 30, 40, 50])"
   ]
  },
  {
   "cell_type": "code",
   "execution_count": 9,
   "id": "2b036ebb",
   "metadata": {},
   "outputs": [
    {
     "name": "stdout",
     "output_type": "stream",
     "text": [
      "[10 20 30 40 50]\n"
     ]
    }
   ],
   "source": [
    "print(integers)"
   ]
  },
  {
   "cell_type": "code",
   "execution_count": 10,
   "id": "5b53de7b",
   "metadata": {},
   "outputs": [
    {
     "name": "stdout",
     "output_type": "stream",
     "text": [
      "10\n"
     ]
    }
   ],
   "source": [
    "print(integers[0])"
   ]
  },
  {
   "cell_type": "code",
   "execution_count": 11,
   "id": "a319a56f",
   "metadata": {},
   "outputs": [],
   "source": [
    "integers[0] = 20"
   ]
  },
  {
   "cell_type": "code",
   "execution_count": 12,
   "id": "ebc54ac2",
   "metadata": {},
   "outputs": [
    {
     "name": "stdout",
     "output_type": "stream",
     "text": [
      "[20 20 30 40 50]\n"
     ]
    }
   ],
   "source": [
    "print(integers)"
   ]
  },
  {
   "cell_type": "code",
   "execution_count": 13,
   "id": "9b9d7019",
   "metadata": {},
   "outputs": [],
   "source": [
    "integers[0] = 20.5"
   ]
  },
  {
   "cell_type": "code",
   "execution_count": 14,
   "id": "a3c72f18",
   "metadata": {},
   "outputs": [
    {
     "data": {
      "text/plain": [
       "array([20, 20, 30, 40, 50])"
      ]
     },
     "execution_count": 14,
     "metadata": {},
     "output_type": "execute_result"
    }
   ],
   "source": [
    "integers"
   ]
  },
  {
   "cell_type": "code",
   "execution_count": 15,
   "id": "903ae721",
   "metadata": {},
   "outputs": [
    {
     "data": {
      "text/plain": [
       "dtype('int64')"
      ]
     },
     "execution_count": 15,
     "metadata": {},
     "output_type": "execute_result"
    }
   ],
   "source": [
    "integers.dtype"
   ]
  },
  {
   "cell_type": "code",
   "execution_count": 17,
   "id": "dd4346d5",
   "metadata": {},
   "outputs": [
    {
     "data": {
      "text/plain": [
       "array([20, 20, 30, 40, 50], dtype=int8)"
      ]
     },
     "execution_count": 17,
     "metadata": {},
     "output_type": "execute_result"
    }
   ],
   "source": [
    "smaller_integers = np.array(integers, dtype=np.int8)\n",
    "smaller_integers"
   ]
  },
  {
   "cell_type": "code",
   "execution_count": 18,
   "id": "423a3dcf",
   "metadata": {},
   "outputs": [
    {
     "data": {
      "text/plain": [
       "5"
      ]
     },
     "execution_count": 18,
     "metadata": {},
     "output_type": "execute_result"
    }
   ],
   "source": [
    "integers.nbytes\n",
    "smaller_integers.nbytes"
   ]
  },
  {
   "cell_type": "code",
   "execution_count": 19,
   "id": "8730143d",
   "metadata": {},
   "outputs": [
    {
     "data": {
      "text/plain": [
       "40"
      ]
     },
     "execution_count": 19,
     "metadata": {},
     "output_type": "execute_result"
    }
   ],
   "source": [
    "integers.nbytes"
   ]
  },
  {
   "cell_type": "code",
   "execution_count": 20,
   "id": "d04a9027",
   "metadata": {},
   "outputs": [
    {
     "ename": "NameError",
     "evalue": "name 'array' is not defined",
     "output_type": "error",
     "traceback": [
      "\u001b[0;31m---------------------------------------------------------------------------\u001b[0m",
      "\u001b[0;31mNameError\u001b[0m                                 Traceback (most recent call last)",
      "\u001b[0;32m/var/folders/hn/v9ywtfzj10d0bxc_h5w12hxr0000gn/T/ipykernel_18711/683154149.py\u001b[0m in \u001b[0;36m<module>\u001b[0;34m\u001b[0m\n\u001b[0;32m----> 1\u001b[0;31m \u001b[0marray\u001b[0m\u001b[0;34m(\u001b[0m\u001b[0;34m[\u001b[0m\u001b[0;36m127\u001b[0m\u001b[0;34m,\u001b[0m \u001b[0;34m-\u001b[0m\u001b[0;36m128\u001b[0m\u001b[0;34m,\u001b[0m \u001b[0;34m-\u001b[0m\u001b[0;36m127\u001b[0m\u001b[0;34m]\u001b[0m\u001b[0;34m,\u001b[0m \u001b[0mdtype\u001b[0m\u001b[0;34m=\u001b[0m\u001b[0mnp\u001b[0m\u001b[0;34m.\u001b[0m\u001b[0mint8\u001b[0m\u001b[0;34m)\u001b[0m\u001b[0;34m\u001b[0m\u001b[0;34m\u001b[0m\u001b[0m\n\u001b[0m",
      "\u001b[0;31mNameError\u001b[0m: name 'array' is not defined"
     ]
    }
   ],
   "source": [
    "array([127, -128, -127], dtype=np.int8)"
   ]
  },
  {
   "cell_type": "code",
   "execution_count": 22,
   "id": "aa7ae69c",
   "metadata": {},
   "outputs": [],
   "source": [
    "overflow = np.array([127, 128, 129], dtype=np.int8)"
   ]
  },
  {
   "cell_type": "code",
   "execution_count": 23,
   "id": "53bda4f8",
   "metadata": {},
   "outputs": [
    {
     "data": {
      "text/plain": [
       "array([ 127, -128, -127], dtype=int8)"
      ]
     },
     "execution_count": 23,
     "metadata": {},
     "output_type": "execute_result"
    }
   ],
   "source": [
    "overflow"
   ]
  },
  {
   "cell_type": "code",
   "execution_count": 24,
   "id": "8c6ac5cf",
   "metadata": {},
   "outputs": [
    {
     "data": {
      "text/plain": [
       "3"
      ]
     },
     "execution_count": 24,
     "metadata": {},
     "output_type": "execute_result"
    }
   ],
   "source": [
    "overflow.nbytes"
   ]
  },
  {
   "cell_type": "code",
   "execution_count": 25,
   "id": "904b327c",
   "metadata": {},
   "outputs": [],
   "source": [
    "floats = np.array([1.2, 2.3, 3.4, 5.1, 8.3])"
   ]
  },
  {
   "cell_type": "code",
   "execution_count": 26,
   "id": "fe54307d",
   "metadata": {},
   "outputs": [
    {
     "data": {
      "text/plain": [
       "dtype('float64')"
      ]
     },
     "execution_count": 26,
     "metadata": {},
     "output_type": "execute_result"
    }
   ],
   "source": [
    "floats.dtype"
   ]
  },
  {
   "cell_type": "markdown",
   "id": "36cb6886",
   "metadata": {},
   "source": [
    "## Multidimensional Arrays"
   ]
  },
  {
   "cell_type": "markdown",
   "id": "f659ef9d",
   "metadata": {},
   "source": [
    "### Two-dimensional Arrays"
   ]
  },
  {
   "cell_type": "code",
   "execution_count": 28,
   "id": "9602a0fc",
   "metadata": {},
   "outputs": [
    {
     "data": {
      "text/plain": [
       "array([[ 1,  2,  3,  4,  5],\n",
       "       [ 6,  7,  8,  9, 10]])"
      ]
     },
     "execution_count": 28,
     "metadata": {},
     "output_type": "execute_result"
    }
   ],
   "source": [
    "nums = np.array([[1, 2, 3, 4, 5], [6, 7, 8, 9, 10]])\n",
    "nums"
   ]
  },
  {
   "cell_type": "code",
   "execution_count": 29,
   "id": "dca6c85f",
   "metadata": {},
   "outputs": [
    {
     "data": {
      "text/plain": [
       "5"
      ]
     },
     "execution_count": 29,
     "metadata": {},
     "output_type": "execute_result"
    }
   ],
   "source": [
    "nums[0][-1]"
   ]
  },
  {
   "cell_type": "code",
   "execution_count": 36,
   "id": "e954af1e",
   "metadata": {},
   "outputs": [
    {
     "data": {
      "text/plain": [
       "7"
      ]
     },
     "execution_count": 36,
     "metadata": {},
     "output_type": "execute_result"
    }
   ],
   "source": [
    "nums[1][-1]\n",
    "nums[1, -1]\n",
    "nums[1, 1]"
   ]
  },
  {
   "cell_type": "code",
   "execution_count": 31,
   "id": "a7e3213e",
   "metadata": {},
   "outputs": [
    {
     "data": {
      "text/plain": [
       "2"
      ]
     },
     "execution_count": 31,
     "metadata": {},
     "output_type": "execute_result"
    }
   ],
   "source": [
    "nums.ndim"
   ]
  },
  {
   "cell_type": "markdown",
   "id": "b7cd493a",
   "metadata": {},
   "source": [
    "### Multi-dimensional Array"
   ]
  },
  {
   "cell_type": "code",
   "execution_count": 32,
   "id": "12047460",
   "metadata": {},
   "outputs": [],
   "source": [
    "multi_arr = np.array([[[1, 2, 3], [4, 5, 6]], [[7, 8, 9], [10, 11, 12]]])"
   ]
  },
  {
   "cell_type": "code",
   "execution_count": 33,
   "id": "b640cc05",
   "metadata": {},
   "outputs": [
    {
     "data": {
      "text/plain": [
       "3"
      ]
     },
     "execution_count": 33,
     "metadata": {},
     "output_type": "execute_result"
    }
   ],
   "source": [
    "multi_arr.ndim"
   ]
  },
  {
   "cell_type": "code",
   "execution_count": 34,
   "id": "2250466f",
   "metadata": {},
   "outputs": [
    {
     "data": {
      "text/plain": [
       "array([[[ 1,  2,  3],\n",
       "        [ 4,  5,  6]],\n",
       "\n",
       "       [[ 7,  8,  9],\n",
       "        [10, 11, 12]]])"
      ]
     },
     "execution_count": 34,
     "metadata": {},
     "output_type": "execute_result"
    }
   ],
   "source": [
    "multi_arr"
   ]
  },
  {
   "cell_type": "code",
   "execution_count": 37,
   "id": "dd399d73",
   "metadata": {},
   "outputs": [
    {
     "data": {
      "text/plain": [
       "9"
      ]
     },
     "execution_count": 37,
     "metadata": {},
     "output_type": "execute_result"
    }
   ],
   "source": [
    "multi_arr[1, 0, 2]"
   ]
  },
  {
   "cell_type": "markdown",
   "id": "8cd23ba5",
   "metadata": {},
   "source": [
    "## Arrays from lists and other Python structures"
   ]
  },
  {
   "cell_type": "code",
   "execution_count": 38,
   "id": "e60db46e",
   "metadata": {},
   "outputs": [],
   "source": [
    "lst = [1, 2, 3, 4, 5, 6, 7, 8, 9, 10]"
   ]
  },
  {
   "cell_type": "code",
   "execution_count": 39,
   "id": "46b0e04f",
   "metadata": {},
   "outputs": [],
   "source": [
    "arr = np.array(lst)"
   ]
  },
  {
   "cell_type": "code",
   "execution_count": 40,
   "id": "194917a9",
   "metadata": {},
   "outputs": [
    {
     "data": {
      "text/plain": [
       "array([ 1,  2,  3,  4,  5,  6,  7,  8,  9, 10])"
      ]
     },
     "execution_count": 40,
     "metadata": {},
     "output_type": "execute_result"
    }
   ],
   "source": [
    "arr"
   ]
  },
  {
   "cell_type": "code",
   "execution_count": 41,
   "id": "312428c5",
   "metadata": {},
   "outputs": [],
   "source": [
    "second_lst = [1, 2, 3, -1.23, 50, 128000.58, 56, 4.56]"
   ]
  },
  {
   "cell_type": "code",
   "execution_count": 42,
   "id": "85d7a027",
   "metadata": {},
   "outputs": [],
   "source": [
    "second_arr = np.array(second_lst)"
   ]
  },
  {
   "cell_type": "code",
   "execution_count": 43,
   "id": "999a7714",
   "metadata": {},
   "outputs": [
    {
     "data": {
      "text/plain": [
       "array([ 1.0000000e+00,  2.0000000e+00,  3.0000000e+00, -1.2300000e+00,\n",
       "        5.0000000e+01,  1.2800058e+05,  5.6000000e+01,  4.5600000e+00])"
      ]
     },
     "execution_count": 43,
     "metadata": {},
     "output_type": "execute_result"
    }
   ],
   "source": [
    "second_arr"
   ]
  },
  {
   "cell_type": "code",
   "execution_count": 44,
   "id": "7ed00cb9",
   "metadata": {},
   "outputs": [
    {
     "data": {
      "text/plain": [
       "dtype('float64')"
      ]
     },
     "execution_count": 44,
     "metadata": {},
     "output_type": "execute_result"
    }
   ],
   "source": [
    "second_arr.dtype"
   ]
  },
  {
   "cell_type": "code",
   "execution_count": 45,
   "id": "a2175f7e",
   "metadata": {},
   "outputs": [],
   "source": [
    "first_tuple = (5, 10, 15, 20, 25, 30)"
   ]
  },
  {
   "cell_type": "code",
   "execution_count": 46,
   "id": "be973be5",
   "metadata": {},
   "outputs": [],
   "source": [
    "arr_from_tuple = np.array(first_tuple)"
   ]
  },
  {
   "cell_type": "code",
   "execution_count": 47,
   "id": "07020615",
   "metadata": {},
   "outputs": [
    {
     "data": {
      "text/plain": [
       "array([ 5, 10, 15, 20, 25, 30])"
      ]
     },
     "execution_count": 47,
     "metadata": {},
     "output_type": "execute_result"
    }
   ],
   "source": [
    "arr_from_tuple"
   ]
  },
  {
   "cell_type": "code",
   "execution_count": 48,
   "id": "4c3290c6",
   "metadata": {},
   "outputs": [
    {
     "data": {
      "text/plain": [
       "dtype('int64')"
      ]
     },
     "execution_count": 48,
     "metadata": {},
     "output_type": "execute_result"
    }
   ],
   "source": [
    "arr_from_tuple.dtype"
   ]
  },
  {
   "cell_type": "markdown",
   "id": "e99433af",
   "metadata": {},
   "source": [
    "## Intrinsic NumPy array creating"
   ]
  },
  {
   "cell_type": "markdown",
   "id": "f01ee454",
   "metadata": {},
   "source": [
    "## Reshaping arrays"
   ]
  },
  {
   "cell_type": "code",
   "execution_count": 108,
   "id": "d52adbb0",
   "metadata": {},
   "outputs": [],
   "source": [
    "reshape_arr = np.arange(1, 13)"
   ]
  },
  {
   "cell_type": "code",
   "execution_count": 109,
   "id": "af5c93bd",
   "metadata": {},
   "outputs": [
    {
     "data": {
      "text/plain": [
       "array([ 1,  2,  3,  4,  5,  6,  7,  8,  9, 10, 11, 12])"
      ]
     },
     "execution_count": 109,
     "metadata": {},
     "output_type": "execute_result"
    }
   ],
   "source": [
    "reshape_arr"
   ]
  },
  {
   "cell_type": "code",
   "execution_count": 110,
   "id": "e4f6b947",
   "metadata": {},
   "outputs": [],
   "source": [
    "r_arr = np.reshape(reshape_arr, (3,4))"
   ]
  },
  {
   "cell_type": "code",
   "execution_count": 111,
   "id": "f453a4e9",
   "metadata": {},
   "outputs": [
    {
     "data": {
      "text/plain": [
       "array([[ 1,  2,  3,  4],\n",
       "       [ 5,  6,  7,  8],\n",
       "       [ 9, 10, 11, 12]])"
      ]
     },
     "execution_count": 111,
     "metadata": {},
     "output_type": "execute_result"
    }
   ],
   "source": [
    "r_arr"
   ]
  },
  {
   "cell_type": "code",
   "execution_count": 112,
   "id": "797a6915",
   "metadata": {},
   "outputs": [],
   "source": [
    "arr6 = np.array([[1, 2],[3, 4],[5, 6]])"
   ]
  },
  {
   "cell_type": "code",
   "execution_count": 113,
   "id": "ed6b453f",
   "metadata": {},
   "outputs": [
    {
     "data": {
      "text/plain": [
       "array([[1, 2],\n",
       "       [3, 4],\n",
       "       [5, 6]])"
      ]
     },
     "execution_count": 113,
     "metadata": {},
     "output_type": "execute_result"
    }
   ],
   "source": [
    "arr6"
   ]
  },
  {
   "cell_type": "code",
   "execution_count": 114,
   "id": "92c115dc",
   "metadata": {},
   "outputs": [],
   "source": [
    "flat_arr = np.reshape(arr6, -1)"
   ]
  },
  {
   "cell_type": "code",
   "execution_count": 115,
   "id": "0d5b80d6",
   "metadata": {},
   "outputs": [
    {
     "data": {
      "text/plain": [
       "array([1, 2, 3, 4, 5, 6])"
      ]
     },
     "execution_count": 115,
     "metadata": {},
     "output_type": "execute_result"
    }
   ],
   "source": [
    "flat_arr"
   ]
  },
  {
   "cell_type": "code",
   "execution_count": null,
   "id": "fb78e3d5",
   "metadata": {},
   "outputs": [],
   "source": []
  }
 ],
 "metadata": {
  "kernelspec": {
   "display_name": "Python 3 (ipykernel)",
   "language": "python",
   "name": "python3"
  },
  "language_info": {
   "codemirror_mode": {
    "name": "ipython",
    "version": 3
   },
   "file_extension": ".py",
   "mimetype": "text/x-python",
   "name": "python",
   "nbconvert_exporter": "python",
   "pygments_lexer": "ipython3",
   "version": "3.10.0"
  }
 },
 "nbformat": 4,
 "nbformat_minor": 5
}
